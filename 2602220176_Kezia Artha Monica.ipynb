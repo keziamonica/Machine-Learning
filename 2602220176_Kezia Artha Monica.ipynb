{
 "cells": [
  {
   "cell_type": "markdown",
   "metadata": {},
   "source": [
    "QUIZ MACHINE LEARNING\n"
   ]
  },
  {
   "cell_type": "markdown",
   "metadata": {},
   "source": [
    "import library"
   ]
  },
  {
   "cell_type": "code",
   "execution_count": 1,
   "metadata": {},
   "outputs": [],
   "source": [
    "import pandas as pd #untuk manipulasi dan analisis data\n",
    "import numpy as np\n",
    "from sklearn.preprocessing import StandardScaler #untuk scalling\n",
    "from sklearn.model_selection import train_test_split #untuk splitting"
   ]
  },
  {
   "cell_type": "markdown",
   "metadata": {},
   "source": [
    "import dataset"
   ]
  },
  {
   "cell_type": "code",
   "execution_count": 2,
   "metadata": {},
   "outputs": [],
   "source": [
    "X_train = pd.read_csv('X_train.csv')  \n",
    "X_test = pd.read_csv('X_test.csv')    \n",
    "y_train = pd.read_csv('y_train.csv') \n",
    "y_test = pd.read_csv('y_test.csv')    "
   ]
  },
  {
   "cell_type": "markdown",
   "metadata": {},
   "source": [
    "membaca tiap data set\n"
   ]
  },
  {
   "cell_type": "code",
   "execution_count": 3,
   "metadata": {},
   "outputs": [
    {
     "data": {
      "text/html": [
       "<div>\n",
       "<style scoped>\n",
       "    .dataframe tbody tr th:only-of-type {\n",
       "        vertical-align: middle;\n",
       "    }\n",
       "\n",
       "    .dataframe tbody tr th {\n",
       "        vertical-align: top;\n",
       "    }\n",
       "\n",
       "    .dataframe thead th {\n",
       "        text-align: right;\n",
       "    }\n",
       "</style>\n",
       "<table border=\"1\" class=\"dataframe\">\n",
       "  <thead>\n",
       "    <tr style=\"text-align: right;\">\n",
       "      <th></th>\n",
       "      <th>index</th>\n",
       "      <th>Feature_1</th>\n",
       "      <th>Feature_2</th>\n",
       "      <th>Feature_3</th>\n",
       "      <th>Feature_4</th>\n",
       "      <th>Feature_5</th>\n",
       "      <th>Feature_6</th>\n",
       "      <th>Feature_7</th>\n",
       "      <th>Feature_8</th>\n",
       "      <th>Feature_9</th>\n",
       "      <th>...</th>\n",
       "      <th>Feature_21</th>\n",
       "      <th>Feature_22</th>\n",
       "      <th>Feature_23</th>\n",
       "      <th>Feature_24</th>\n",
       "      <th>Feature_25</th>\n",
       "      <th>Feature_26</th>\n",
       "      <th>Feature_27</th>\n",
       "      <th>Feature_28</th>\n",
       "      <th>Feature_29</th>\n",
       "      <th>Feature_30</th>\n",
       "    </tr>\n",
       "  </thead>\n",
       "  <tbody>\n",
       "    <tr>\n",
       "      <th>0</th>\n",
       "      <td>0</td>\n",
       "      <td>-1.423113</td>\n",
       "      <td>0.572921</td>\n",
       "      <td>17.686516</td>\n",
       "      <td>0.073024</td>\n",
       "      <td>0.615795</td>\n",
       "      <td>3.854087</td>\n",
       "      <td>12</td>\n",
       "      <td>0.869012</td>\n",
       "      <td>0.484014</td>\n",
       "      <td>...</td>\n",
       "      <td>1</td>\n",
       "      <td>0</td>\n",
       "      <td>0</td>\n",
       "      <td>5</td>\n",
       "      <td>1</td>\n",
       "      <td>2</td>\n",
       "      <td>0</td>\n",
       "      <td>1</td>\n",
       "      <td>C</td>\n",
       "      <td>A</td>\n",
       "    </tr>\n",
       "    <tr>\n",
       "      <th>1</th>\n",
       "      <td>1</td>\n",
       "      <td>1.555577</td>\n",
       "      <td>-0.683267</td>\n",
       "      <td>15.978197</td>\n",
       "      <td>0.807142</td>\n",
       "      <td>2.740634</td>\n",
       "      <td>0.078398</td>\n",
       "      <td>5</td>\n",
       "      <td>0.283169</td>\n",
       "      <td>0.700958</td>\n",
       "      <td>...</td>\n",
       "      <td>0</td>\n",
       "      <td>0</td>\n",
       "      <td>0</td>\n",
       "      <td>4</td>\n",
       "      <td>0</td>\n",
       "      <td>3</td>\n",
       "      <td>0</td>\n",
       "      <td>0</td>\n",
       "      <td>A</td>\n",
       "      <td>B</td>\n",
       "    </tr>\n",
       "    <tr>\n",
       "      <th>2</th>\n",
       "      <td>2</td>\n",
       "      <td>0.091494</td>\n",
       "      <td>1.386061</td>\n",
       "      <td>10.715102</td>\n",
       "      <td>0.779657</td>\n",
       "      <td>1.058637</td>\n",
       "      <td>0.107624</td>\n",
       "      <td>8</td>\n",
       "      <td>0.396096</td>\n",
       "      <td>0.091603</td>\n",
       "      <td>...</td>\n",
       "      <td>0</td>\n",
       "      <td>0</td>\n",
       "      <td>0</td>\n",
       "      <td>3</td>\n",
       "      <td>1</td>\n",
       "      <td>2</td>\n",
       "      <td>0</td>\n",
       "      <td>1</td>\n",
       "      <td>A</td>\n",
       "      <td>A</td>\n",
       "    </tr>\n",
       "    <tr>\n",
       "      <th>3</th>\n",
       "      <td>3</td>\n",
       "      <td>-0.368619</td>\n",
       "      <td>-1.847271</td>\n",
       "      <td>14.581532</td>\n",
       "      <td>0.943360</td>\n",
       "      <td>3.848397</td>\n",
       "      <td>0.359430</td>\n",
       "      <td>3</td>\n",
       "      <td>6.363136</td>\n",
       "      <td>0.835804</td>\n",
       "      <td>...</td>\n",
       "      <td>0</td>\n",
       "      <td>0</td>\n",
       "      <td>0</td>\n",
       "      <td>4</td>\n",
       "      <td>0</td>\n",
       "      <td>2</td>\n",
       "      <td>0</td>\n",
       "      <td>1</td>\n",
       "      <td>C</td>\n",
       "      <td>A</td>\n",
       "    </tr>\n",
       "    <tr>\n",
       "      <th>4</th>\n",
       "      <td>4</td>\n",
       "      <td>-0.654865</td>\n",
       "      <td>0.526116</td>\n",
       "      <td>14.283726</td>\n",
       "      <td>0.918975</td>\n",
       "      <td>2.186395</td>\n",
       "      <td>0.211522</td>\n",
       "      <td>4</td>\n",
       "      <td>0.083584</td>\n",
       "      <td>0.656074</td>\n",
       "      <td>...</td>\n",
       "      <td>2</td>\n",
       "      <td>1</td>\n",
       "      <td>0</td>\n",
       "      <td>1</td>\n",
       "      <td>0</td>\n",
       "      <td>4</td>\n",
       "      <td>0</td>\n",
       "      <td>1</td>\n",
       "      <td>A</td>\n",
       "      <td>A</td>\n",
       "    </tr>\n",
       "  </tbody>\n",
       "</table>\n",
       "<p>5 rows × 31 columns</p>\n",
       "</div>"
      ],
      "text/plain": [
       "   index  Feature_1  Feature_2  Feature_3  Feature_4  Feature_5  Feature_6  \\\n",
       "0      0  -1.423113   0.572921  17.686516   0.073024   0.615795   3.854087   \n",
       "1      1   1.555577  -0.683267  15.978197   0.807142   2.740634   0.078398   \n",
       "2      2   0.091494   1.386061  10.715102   0.779657   1.058637   0.107624   \n",
       "3      3  -0.368619  -1.847271  14.581532   0.943360   3.848397   0.359430   \n",
       "4      4  -0.654865   0.526116  14.283726   0.918975   2.186395   0.211522   \n",
       "\n",
       "   Feature_7  Feature_8  Feature_9  ...  Feature_21  Feature_22  Feature_23  \\\n",
       "0         12   0.869012   0.484014  ...           1           0           0   \n",
       "1          5   0.283169   0.700958  ...           0           0           0   \n",
       "2          8   0.396096   0.091603  ...           0           0           0   \n",
       "3          3   6.363136   0.835804  ...           0           0           0   \n",
       "4          4   0.083584   0.656074  ...           2           1           0   \n",
       "\n",
       "   Feature_24  Feature_25  Feature_26  Feature_27  Feature_28  Feature_29  \\\n",
       "0           5           1           2           0           1           C   \n",
       "1           4           0           3           0           0           A   \n",
       "2           3           1           2           0           1           A   \n",
       "3           4           0           2           0           1           C   \n",
       "4           1           0           4           0           1           A   \n",
       "\n",
       "   Feature_30  \n",
       "0           A  \n",
       "1           B  \n",
       "2           A  \n",
       "3           A  \n",
       "4           A  \n",
       "\n",
       "[5 rows x 31 columns]"
      ]
     },
     "execution_count": 3,
     "metadata": {},
     "output_type": "execute_result"
    }
   ],
   "source": [
    "X_train.head()"
   ]
  },
  {
   "cell_type": "code",
   "execution_count": 4,
   "metadata": {},
   "outputs": [
    {
     "data": {
      "text/html": [
       "<div>\n",
       "<style scoped>\n",
       "    .dataframe tbody tr th:only-of-type {\n",
       "        vertical-align: middle;\n",
       "    }\n",
       "\n",
       "    .dataframe tbody tr th {\n",
       "        vertical-align: top;\n",
       "    }\n",
       "\n",
       "    .dataframe thead th {\n",
       "        text-align: right;\n",
       "    }\n",
       "</style>\n",
       "<table border=\"1\" class=\"dataframe\">\n",
       "  <thead>\n",
       "    <tr style=\"text-align: right;\">\n",
       "      <th></th>\n",
       "      <th>index</th>\n",
       "      <th>Feature_1</th>\n",
       "      <th>Feature_2</th>\n",
       "      <th>Feature_3</th>\n",
       "      <th>Feature_4</th>\n",
       "      <th>Feature_5</th>\n",
       "      <th>Feature_6</th>\n",
       "      <th>Feature_7</th>\n",
       "      <th>Feature_8</th>\n",
       "      <th>Feature_9</th>\n",
       "      <th>...</th>\n",
       "      <th>Feature_21</th>\n",
       "      <th>Feature_22</th>\n",
       "      <th>Feature_23</th>\n",
       "      <th>Feature_24</th>\n",
       "      <th>Feature_25</th>\n",
       "      <th>Feature_26</th>\n",
       "      <th>Feature_27</th>\n",
       "      <th>Feature_28</th>\n",
       "      <th>Feature_29</th>\n",
       "      <th>Feature_30</th>\n",
       "    </tr>\n",
       "  </thead>\n",
       "  <tbody>\n",
       "    <tr>\n",
       "      <th>0</th>\n",
       "      <td>0</td>\n",
       "      <td>0.282260</td>\n",
       "      <td>-0.860290</td>\n",
       "      <td>14.982660</td>\n",
       "      <td>0.998262</td>\n",
       "      <td>1.799244</td>\n",
       "      <td>1.452862</td>\n",
       "      <td>4</td>\n",
       "      <td>2.553702</td>\n",
       "      <td>0.262569</td>\n",
       "      <td>...</td>\n",
       "      <td>0</td>\n",
       "      <td>0</td>\n",
       "      <td>2</td>\n",
       "      <td>1</td>\n",
       "      <td>0</td>\n",
       "      <td>0</td>\n",
       "      <td>0</td>\n",
       "      <td>1</td>\n",
       "      <td>A</td>\n",
       "      <td>A</td>\n",
       "    </tr>\n",
       "    <tr>\n",
       "      <th>1</th>\n",
       "      <td>1</td>\n",
       "      <td>1.107414</td>\n",
       "      <td>0.686746</td>\n",
       "      <td>12.093164</td>\n",
       "      <td>0.527175</td>\n",
       "      <td>3.141188</td>\n",
       "      <td>0.639483</td>\n",
       "      <td>5</td>\n",
       "      <td>0.452457</td>\n",
       "      <td>0.056312</td>\n",
       "      <td>...</td>\n",
       "      <td>2</td>\n",
       "      <td>0</td>\n",
       "      <td>0</td>\n",
       "      <td>1</td>\n",
       "      <td>0</td>\n",
       "      <td>2</td>\n",
       "      <td>0</td>\n",
       "      <td>1</td>\n",
       "      <td>A</td>\n",
       "      <td>A</td>\n",
       "    </tr>\n",
       "    <tr>\n",
       "      <th>2</th>\n",
       "      <td>2</td>\n",
       "      <td>-1.280003</td>\n",
       "      <td>0.120712</td>\n",
       "      <td>8.574844</td>\n",
       "      <td>0.119564</td>\n",
       "      <td>4.273938</td>\n",
       "      <td>1.296210</td>\n",
       "      <td>7</td>\n",
       "      <td>0.294391</td>\n",
       "      <td>0.669383</td>\n",
       "      <td>...</td>\n",
       "      <td>1</td>\n",
       "      <td>0</td>\n",
       "      <td>0</td>\n",
       "      <td>1</td>\n",
       "      <td>0</td>\n",
       "      <td>4</td>\n",
       "      <td>0</td>\n",
       "      <td>1</td>\n",
       "      <td>A</td>\n",
       "      <td>A</td>\n",
       "    </tr>\n",
       "    <tr>\n",
       "      <th>3</th>\n",
       "      <td>3</td>\n",
       "      <td>-0.261910</td>\n",
       "      <td>0.027032</td>\n",
       "      <td>21.610662</td>\n",
       "      <td>0.420070</td>\n",
       "      <td>1.545481</td>\n",
       "      <td>2.912723</td>\n",
       "      <td>2</td>\n",
       "      <td>0.386170</td>\n",
       "      <td>0.786902</td>\n",
       "      <td>...</td>\n",
       "      <td>0</td>\n",
       "      <td>1</td>\n",
       "      <td>0</td>\n",
       "      <td>1</td>\n",
       "      <td>0</td>\n",
       "      <td>0</td>\n",
       "      <td>0</td>\n",
       "      <td>1</td>\n",
       "      <td>A</td>\n",
       "      <td>A</td>\n",
       "    </tr>\n",
       "    <tr>\n",
       "      <th>4</th>\n",
       "      <td>4</td>\n",
       "      <td>-1.001024</td>\n",
       "      <td>0.397065</td>\n",
       "      <td>8.974199</td>\n",
       "      <td>0.743688</td>\n",
       "      <td>1.596239</td>\n",
       "      <td>1.784739</td>\n",
       "      <td>7</td>\n",
       "      <td>0.068753</td>\n",
       "      <td>0.537837</td>\n",
       "      <td>...</td>\n",
       "      <td>0</td>\n",
       "      <td>0</td>\n",
       "      <td>0</td>\n",
       "      <td>3</td>\n",
       "      <td>0</td>\n",
       "      <td>0</td>\n",
       "      <td>0</td>\n",
       "      <td>1</td>\n",
       "      <td>A</td>\n",
       "      <td>B</td>\n",
       "    </tr>\n",
       "  </tbody>\n",
       "</table>\n",
       "<p>5 rows × 31 columns</p>\n",
       "</div>"
      ],
      "text/plain": [
       "   index  Feature_1  Feature_2  Feature_3  Feature_4  Feature_5  Feature_6  \\\n",
       "0      0   0.282260  -0.860290  14.982660   0.998262   1.799244   1.452862   \n",
       "1      1   1.107414   0.686746  12.093164   0.527175   3.141188   0.639483   \n",
       "2      2  -1.280003   0.120712   8.574844   0.119564   4.273938   1.296210   \n",
       "3      3  -0.261910   0.027032  21.610662   0.420070   1.545481   2.912723   \n",
       "4      4  -1.001024   0.397065   8.974199   0.743688   1.596239   1.784739   \n",
       "\n",
       "   Feature_7  Feature_8  Feature_9  ...  Feature_21  Feature_22  Feature_23  \\\n",
       "0          4   2.553702   0.262569  ...           0           0           2   \n",
       "1          5   0.452457   0.056312  ...           2           0           0   \n",
       "2          7   0.294391   0.669383  ...           1           0           0   \n",
       "3          2   0.386170   0.786902  ...           0           1           0   \n",
       "4          7   0.068753   0.537837  ...           0           0           0   \n",
       "\n",
       "   Feature_24  Feature_25  Feature_26  Feature_27  Feature_28  Feature_29  \\\n",
       "0           1           0           0           0           1           A   \n",
       "1           1           0           2           0           1           A   \n",
       "2           1           0           4           0           1           A   \n",
       "3           1           0           0           0           1           A   \n",
       "4           3           0           0           0           1           A   \n",
       "\n",
       "   Feature_30  \n",
       "0           A  \n",
       "1           A  \n",
       "2           A  \n",
       "3           A  \n",
       "4           B  \n",
       "\n",
       "[5 rows x 31 columns]"
      ]
     },
     "execution_count": 4,
     "metadata": {},
     "output_type": "execute_result"
    }
   ],
   "source": [
    "X_test.head()"
   ]
  },
  {
   "cell_type": "code",
   "execution_count": 5,
   "metadata": {},
   "outputs": [
    {
     "data": {
      "text/html": [
       "<div>\n",
       "<style scoped>\n",
       "    .dataframe tbody tr th:only-of-type {\n",
       "        vertical-align: middle;\n",
       "    }\n",
       "\n",
       "    .dataframe tbody tr th {\n",
       "        vertical-align: top;\n",
       "    }\n",
       "\n",
       "    .dataframe thead th {\n",
       "        text-align: right;\n",
       "    }\n",
       "</style>\n",
       "<table border=\"1\" class=\"dataframe\">\n",
       "  <thead>\n",
       "    <tr style=\"text-align: right;\">\n",
       "      <th></th>\n",
       "      <th>index</th>\n",
       "      <th>Target</th>\n",
       "    </tr>\n",
       "  </thead>\n",
       "  <tbody>\n",
       "    <tr>\n",
       "      <th>0</th>\n",
       "      <td>0</td>\n",
       "      <td>B</td>\n",
       "    </tr>\n",
       "    <tr>\n",
       "      <th>1</th>\n",
       "      <td>1</td>\n",
       "      <td>E</td>\n",
       "    </tr>\n",
       "    <tr>\n",
       "      <th>2</th>\n",
       "      <td>2</td>\n",
       "      <td>A</td>\n",
       "    </tr>\n",
       "    <tr>\n",
       "      <th>3</th>\n",
       "      <td>3</td>\n",
       "      <td>E</td>\n",
       "    </tr>\n",
       "    <tr>\n",
       "      <th>4</th>\n",
       "      <td>4</td>\n",
       "      <td>D</td>\n",
       "    </tr>\n",
       "  </tbody>\n",
       "</table>\n",
       "</div>"
      ],
      "text/plain": [
       "   index Target\n",
       "0      0      B\n",
       "1      1      E\n",
       "2      2      A\n",
       "3      3      E\n",
       "4      4      D"
      ]
     },
     "execution_count": 5,
     "metadata": {},
     "output_type": "execute_result"
    }
   ],
   "source": [
    "y_train.head()"
   ]
  },
  {
   "cell_type": "code",
   "execution_count": 6,
   "metadata": {},
   "outputs": [
    {
     "data": {
      "text/html": [
       "<div>\n",
       "<style scoped>\n",
       "    .dataframe tbody tr th:only-of-type {\n",
       "        vertical-align: middle;\n",
       "    }\n",
       "\n",
       "    .dataframe tbody tr th {\n",
       "        vertical-align: top;\n",
       "    }\n",
       "\n",
       "    .dataframe thead th {\n",
       "        text-align: right;\n",
       "    }\n",
       "</style>\n",
       "<table border=\"1\" class=\"dataframe\">\n",
       "  <thead>\n",
       "    <tr style=\"text-align: right;\">\n",
       "      <th></th>\n",
       "      <th>index</th>\n",
       "      <th>Target</th>\n",
       "    </tr>\n",
       "  </thead>\n",
       "  <tbody>\n",
       "    <tr>\n",
       "      <th>0</th>\n",
       "      <td>0</td>\n",
       "      <td>NaN</td>\n",
       "    </tr>\n",
       "    <tr>\n",
       "      <th>1</th>\n",
       "      <td>1</td>\n",
       "      <td>NaN</td>\n",
       "    </tr>\n",
       "    <tr>\n",
       "      <th>2</th>\n",
       "      <td>2</td>\n",
       "      <td>NaN</td>\n",
       "    </tr>\n",
       "    <tr>\n",
       "      <th>3</th>\n",
       "      <td>3</td>\n",
       "      <td>NaN</td>\n",
       "    </tr>\n",
       "    <tr>\n",
       "      <th>4</th>\n",
       "      <td>4</td>\n",
       "      <td>NaN</td>\n",
       "    </tr>\n",
       "  </tbody>\n",
       "</table>\n",
       "</div>"
      ],
      "text/plain": [
       "   index  Target\n",
       "0      0     NaN\n",
       "1      1     NaN\n",
       "2      2     NaN\n",
       "3      3     NaN\n",
       "4      4     NaN"
      ]
     },
     "execution_count": 6,
     "metadata": {},
     "output_type": "execute_result"
    }
   ],
   "source": [
    "y_test.head() #y test memiliki target yang kosong maka perlu diisi, hasil y test akan ada dalam answer.csv "
   ]
  },
  {
   "cell_type": "markdown",
   "metadata": {},
   "source": [
    "PREPROCESSING"
   ]
  },
  {
   "cell_type": "markdown",
   "metadata": {},
   "source": [
    "find the missing values"
   ]
  },
  {
   "cell_type": "code",
   "execution_count": 7,
   "metadata": {},
   "outputs": [
    {
     "data": {
      "text/plain": [
       "index         0\n",
       "Feature_1     0\n",
       "Feature_2     0\n",
       "Feature_3     0\n",
       "Feature_4     0\n",
       "Feature_5     0\n",
       "Feature_6     0\n",
       "Feature_7     0\n",
       "Feature_8     0\n",
       "Feature_9     0\n",
       "Feature_10    0\n",
       "Feature_11    0\n",
       "Feature_12    0\n",
       "Feature_13    0\n",
       "Feature_14    0\n",
       "Feature_15    0\n",
       "Feature_16    0\n",
       "Feature_17    0\n",
       "Feature_18    0\n",
       "Feature_19    0\n",
       "Feature_20    0\n",
       "Feature_21    0\n",
       "Feature_22    0\n",
       "Feature_23    0\n",
       "Feature_24    0\n",
       "Feature_25    0\n",
       "Feature_26    0\n",
       "Feature_27    0\n",
       "Feature_28    0\n",
       "Feature_29    0\n",
       "Feature_30    0\n",
       "dtype: int64"
      ]
     },
     "execution_count": 7,
     "metadata": {},
     "output_type": "execute_result"
    }
   ],
   "source": [
    "X_train.isna().sum()"
   ]
  },
  {
   "cell_type": "code",
   "execution_count": 8,
   "metadata": {},
   "outputs": [
    {
     "data": {
      "text/plain": [
       "index         0\n",
       "Feature_1     0\n",
       "Feature_2     0\n",
       "Feature_3     0\n",
       "Feature_4     0\n",
       "Feature_5     0\n",
       "Feature_6     0\n",
       "Feature_7     0\n",
       "Feature_8     0\n",
       "Feature_9     0\n",
       "Feature_10    0\n",
       "Feature_11    0\n",
       "Feature_12    0\n",
       "Feature_13    0\n",
       "Feature_14    0\n",
       "Feature_15    0\n",
       "Feature_16    0\n",
       "Feature_17    0\n",
       "Feature_18    0\n",
       "Feature_19    0\n",
       "Feature_20    0\n",
       "Feature_21    0\n",
       "Feature_22    0\n",
       "Feature_23    0\n",
       "Feature_24    0\n",
       "Feature_25    0\n",
       "Feature_26    0\n",
       "Feature_27    0\n",
       "Feature_28    0\n",
       "Feature_29    0\n",
       "Feature_30    0\n",
       "dtype: int64"
      ]
     },
     "execution_count": 8,
     "metadata": {},
     "output_type": "execute_result"
    }
   ],
   "source": [
    "X_test.isna().sum()"
   ]
  },
  {
   "cell_type": "markdown",
   "metadata": {},
   "source": [
    "there are no missing values, so we don't need to fill anything"
   ]
  },
  {
   "cell_type": "markdown",
   "metadata": {},
   "source": [
    "ENCODE THE CATEGORICAL VARIABLE\n",
    "\n",
    "\n",
    "we need to check the categorical value and have to change into numerical value"
   ]
  },
  {
   "cell_type": "code",
   "execution_count": 9,
   "metadata": {},
   "outputs": [
    {
     "name": "stdout",
     "output_type": "stream",
     "text": [
      "<class 'pandas.core.frame.DataFrame'>\n",
      "RangeIndex: 80000 entries, 0 to 79999\n",
      "Data columns (total 31 columns):\n",
      " #   Column      Non-Null Count  Dtype  \n",
      "---  ------      --------------  -----  \n",
      " 0   index       80000 non-null  int64  \n",
      " 1   Feature_1   80000 non-null  float64\n",
      " 2   Feature_2   80000 non-null  float64\n",
      " 3   Feature_3   80000 non-null  float64\n",
      " 4   Feature_4   80000 non-null  float64\n",
      " 5   Feature_5   80000 non-null  float64\n",
      " 6   Feature_6   80000 non-null  float64\n",
      " 7   Feature_7   80000 non-null  int64  \n",
      " 8   Feature_8   80000 non-null  float64\n",
      " 9   Feature_9   80000 non-null  float64\n",
      " 10  Feature_10  80000 non-null  int64  \n",
      " 11  Feature_11  80000 non-null  int64  \n",
      " 12  Feature_12  80000 non-null  int64  \n",
      " 13  Feature_13  80000 non-null  int64  \n",
      " 14  Feature_14  80000 non-null  int64  \n",
      " 15  Feature_15  80000 non-null  int64  \n",
      " 16  Feature_16  80000 non-null  int64  \n",
      " 17  Feature_17  80000 non-null  int64  \n",
      " 18  Feature_18  80000 non-null  int64  \n",
      " 19  Feature_19  80000 non-null  int64  \n",
      " 20  Feature_20  80000 non-null  int64  \n",
      " 21  Feature_21  80000 non-null  int64  \n",
      " 22  Feature_22  80000 non-null  int64  \n",
      " 23  Feature_23  80000 non-null  int64  \n",
      " 24  Feature_24  80000 non-null  int64  \n",
      " 25  Feature_25  80000 non-null  int64  \n",
      " 26  Feature_26  80000 non-null  int64  \n",
      " 27  Feature_27  80000 non-null  int64  \n",
      " 28  Feature_28  80000 non-null  int64  \n",
      " 29  Feature_29  80000 non-null  object \n",
      " 30  Feature_30  80000 non-null  object \n",
      "dtypes: float64(8), int64(21), object(2)\n",
      "memory usage: 18.9+ MB\n"
     ]
    }
   ],
   "source": [
    "X_train.info()"
   ]
  },
  {
   "cell_type": "markdown",
   "metadata": {},
   "source": [
    "we found there is categorical data in feature 29 and 30, so we need to change it."
   ]
  },
  {
   "cell_type": "code",
   "execution_count": 10,
   "metadata": {},
   "outputs": [],
   "source": [
    "from sklearn.preprocessing import LabelEncoder\n",
    "le = LabelEncoder()\n",
    "# Data Train -> Fit + Transform\n",
    "# Data Test -> Transform\n",
    "\n",
    "le.fit(X_train['Feature_29'])\n",
    "X_train['Feature_29'] = le.transform(X_train['Feature_29'])\n",
    "X_test['Feature_29'] = le.transform(X_test['Feature_29'])\n",
    "\n",
    "le.fit(X_train['Feature_30'])\n",
    "X_train['Feature_30'] = le.transform(X_train['Feature_30'])\n",
    "X_test['Feature_30'] = le.transform(X_test['Feature_30'])"
   ]
  },
  {
   "cell_type": "code",
   "execution_count": 11,
   "metadata": {},
   "outputs": [
    {
     "name": "stdout",
     "output_type": "stream",
     "text": [
      "<class 'pandas.core.frame.DataFrame'>\n",
      "RangeIndex: 80000 entries, 0 to 79999\n",
      "Data columns (total 31 columns):\n",
      " #   Column      Non-Null Count  Dtype  \n",
      "---  ------      --------------  -----  \n",
      " 0   index       80000 non-null  int64  \n",
      " 1   Feature_1   80000 non-null  float64\n",
      " 2   Feature_2   80000 non-null  float64\n",
      " 3   Feature_3   80000 non-null  float64\n",
      " 4   Feature_4   80000 non-null  float64\n",
      " 5   Feature_5   80000 non-null  float64\n",
      " 6   Feature_6   80000 non-null  float64\n",
      " 7   Feature_7   80000 non-null  int64  \n",
      " 8   Feature_8   80000 non-null  float64\n",
      " 9   Feature_9   80000 non-null  float64\n",
      " 10  Feature_10  80000 non-null  int64  \n",
      " 11  Feature_11  80000 non-null  int64  \n",
      " 12  Feature_12  80000 non-null  int64  \n",
      " 13  Feature_13  80000 non-null  int64  \n",
      " 14  Feature_14  80000 non-null  int64  \n",
      " 15  Feature_15  80000 non-null  int64  \n",
      " 16  Feature_16  80000 non-null  int64  \n",
      " 17  Feature_17  80000 non-null  int64  \n",
      " 18  Feature_18  80000 non-null  int64  \n",
      " 19  Feature_19  80000 non-null  int64  \n",
      " 20  Feature_20  80000 non-null  int64  \n",
      " 21  Feature_21  80000 non-null  int64  \n",
      " 22  Feature_22  80000 non-null  int64  \n",
      " 23  Feature_23  80000 non-null  int64  \n",
      " 24  Feature_24  80000 non-null  int64  \n",
      " 25  Feature_25  80000 non-null  int64  \n",
      " 26  Feature_26  80000 non-null  int64  \n",
      " 27  Feature_27  80000 non-null  int64  \n",
      " 28  Feature_28  80000 non-null  int64  \n",
      " 29  Feature_29  80000 non-null  int32  \n",
      " 30  Feature_30  80000 non-null  int32  \n",
      "dtypes: float64(8), int32(2), int64(21)\n",
      "memory usage: 18.3 MB\n"
     ]
    }
   ],
   "source": [
    "X_train.info()"
   ]
  },
  {
   "cell_type": "markdown",
   "metadata": {},
   "source": [
    "the feature 29 and 30 is changed into a numerical value"
   ]
  },
  {
   "cell_type": "markdown",
   "metadata": {},
   "source": [
    "PCA\n",
    "\n",
    "\n",
    "to reduce the amount of data so it won't cause dimensionality curse"
   ]
  },
  {
   "cell_type": "code",
   "execution_count": 17,
   "metadata": {},
   "outputs": [
    {
     "name": "stdout",
     "output_type": "stream",
     "text": [
      "Varians yang dijelaskan oleh setiap komponen utama:\n",
      "[9.84565660e-01 1.53917411e-02 3.81869162e-05 2.62221191e-06\n",
      " 1.51020713e-06 1.53898477e-07 5.47067660e-08 1.49680385e-08\n",
      " 1.10367593e-08 7.34823710e-09 6.02725559e-09 5.38714056e-09\n",
      " 4.32837082e-09 4.29110263e-09 3.73941461e-09]\n",
      "\n",
      "Total varians yang dijelaskan oleh 15 komponen utama: 0.999999986506977\n"
     ]
    }
   ],
   "source": [
    "from sklearn.decomposition import PCA\n",
    "\n",
    "# Menentukan jumlah komponen utama\n",
    "n_components = 15  #karena ada 30 features, maka saya memilih 15 \n",
    "\n",
    "# Inisialisasi PCA\n",
    "pca = PCA(n_components=n_components)\n",
    "\n",
    "# Fit dan transform data training\n",
    "X_train_pca = pca.fit_transform(X_train)\n",
    "\n",
    "# Transform data testing\n",
    "X_test_pca = pca.transform(X_test)\n",
    "\n",
    "# Memeriksa varians yang dijelaskan oleh komponen-komponen utama\n",
    "explained_variance = pca.explained_variance_ratio_\n",
    "print(\"Varians yang dijelaskan oleh setiap komponen utama:\")\n",
    "print(explained_variance)\n",
    "\n",
    "print(\"\\nTotal varians yang dijelaskan oleh\", n_components, \"komponen utama:\", np.sum(explained_variance))"
   ]
  },
  {
   "cell_type": "markdown",
   "metadata": {},
   "source": [
    "SPLITTING"
   ]
  },
  {
   "cell_type": "code",
   "execution_count": 18,
   "metadata": {},
   "outputs": [],
   "source": [
    "from sklearn.model_selection import train_test_split\n",
    "# X -> feature\n",
    "# y -> target\n",
    "# Drop index karena bisa merusak tatanan CSV final answernya\n",
    "X = X_train.drop('index', axis = 1)\n",
    "y = y_train.drop('index', axis = 1)\n",
    "\n",
    "X_train_new, X_test_new, y_train_new, y_test_new = train_test_split(X, y, test_size=0.2, random_state=42)"
   ]
  },
  {
   "cell_type": "markdown",
   "metadata": {},
   "source": [
    "SCALLING"
   ]
  },
  {
   "cell_type": "code",
   "execution_count": 20,
   "metadata": {},
   "outputs": [],
   "source": [
    "from sklearn.preprocessing import StandardScaler\n",
    "\n",
    "scaler = StandardScaler()\n",
    "X_train_new = scaler.fit_transform(X_train_new)\n",
    "X_test_new = scaler.fit_transform(X_test_new)"
   ]
  },
  {
   "cell_type": "markdown",
   "metadata": {},
   "source": [
    "CLASSIFICATION"
   ]
  },
  {
   "cell_type": "code",
   "execution_count": 21,
   "metadata": {},
   "outputs": [
    {
     "name": "stderr",
     "output_type": "stream",
     "text": [
      "c:\\Anaconda3\\lib\\site-packages\\sklearn\\utils\\validation.py:63: DataConversionWarning: A column-vector y was passed when a 1d array was expected. Please change the shape of y to (n_samples, ), for example using ravel().\n",
      "  return f(*args, **kwargs)\n"
     ]
    },
    {
     "data": {
      "text/plain": [
       "LogisticRegression(max_iter=1000)"
      ]
     },
     "execution_count": 21,
     "metadata": {},
     "output_type": "execute_result"
    }
   ],
   "source": [
    "from sklearn.linear_model import LogisticRegression\n",
    "\n",
    "lr = LogisticRegression(max_iter=1000)\n",
    "lr.fit(X_train_new, y_train_new)"
   ]
  },
  {
   "cell_type": "code",
   "execution_count": 22,
   "metadata": {},
   "outputs": [],
   "source": [
    "y_pred = lr.predict(X_test_new)"
   ]
  },
  {
   "cell_type": "markdown",
   "metadata": {},
   "source": [
    "EVALUATION"
   ]
  },
  {
   "cell_type": "code",
   "execution_count": 23,
   "metadata": {},
   "outputs": [
    {
     "name": "stderr",
     "output_type": "stream",
     "text": [
      "c:\\Anaconda3\\lib\\site-packages\\sklearn\\metrics\\_classification.py:1245: UndefinedMetricWarning: Precision and F-score are ill-defined and being set to 0.0 in labels with no predicted samples. Use `zero_division` parameter to control this behavior.\n",
      "  _warn_prf(average, modifier, msg_start, len(result))\n",
      "c:\\Anaconda3\\lib\\site-packages\\sklearn\\metrics\\_classification.py:1245: UndefinedMetricWarning: Precision and F-score are ill-defined and being set to 0.0 in labels with no predicted samples. Use `zero_division` parameter to control this behavior.\n",
      "  _warn_prf(average, modifier, msg_start, len(result))\n",
      "c:\\Anaconda3\\lib\\site-packages\\sklearn\\metrics\\_classification.py:1245: UndefinedMetricWarning: Precision and F-score are ill-defined and being set to 0.0 in labels with no predicted samples. Use `zero_division` parameter to control this behavior.\n",
      "  _warn_prf(average, modifier, msg_start, len(result))\n"
     ]
    }
   ],
   "source": [
    "from sklearn.metrics import classification_report\n",
    "report = classification_report(y_test_new, y_pred)"
   ]
  },
  {
   "cell_type": "code",
   "execution_count": 24,
   "metadata": {},
   "outputs": [
    {
     "name": "stdout",
     "output_type": "stream",
     "text": [
      "              precision    recall  f1-score   support\n",
      "\n",
      "           A       0.24      0.68      0.35      3717\n",
      "           B       0.23      0.31      0.26      3493\n",
      "           C       0.00      0.00      0.00      2381\n",
      "           D       0.26      0.00      0.00      3024\n",
      "           E       0.14      0.02      0.03      3385\n",
      "\n",
      "    accuracy                           0.23     16000\n",
      "   macro avg       0.17      0.20      0.13     16000\n",
      "weighted avg       0.18      0.23      0.15     16000\n",
      "\n"
     ]
    }
   ],
   "source": [
    "print(report)"
   ]
  },
  {
   "cell_type": "markdown",
   "metadata": {},
   "source": [
    "TESTING"
   ]
  },
  {
   "cell_type": "code",
   "execution_count": 25,
   "metadata": {},
   "outputs": [],
   "source": [
    "X_test.drop('index', axis = 1, inplace=True)\n",
    "X_test = scaler.transform(X_test)\n",
    "y_result = lr.predict(X_test)"
   ]
  },
  {
   "cell_type": "code",
   "execution_count": 26,
   "metadata": {},
   "outputs": [],
   "source": [
    "y_test['Target'] = y_result"
   ]
  },
  {
   "cell_type": "code",
   "execution_count": 27,
   "metadata": {},
   "outputs": [],
   "source": [
    "y_test.to_csv('Answer.csv')"
   ]
  }
 ],
 "metadata": {
  "kernelspec": {
   "display_name": "Python 3.8.8 ('base')",
   "language": "python",
   "name": "python3"
  },
  "language_info": {
   "codemirror_mode": {
    "name": "ipython",
    "version": 3
   },
   "file_extension": ".py",
   "mimetype": "text/x-python",
   "name": "python",
   "nbconvert_exporter": "python",
   "pygments_lexer": "ipython3",
   "version": "3.8.8"
  },
  "orig_nbformat": 4,
  "vscode": {
   "interpreter": {
    "hash": "e4cce46d6be9934fbd27f9ca0432556941ea5bdf741d4f4d64c6cd7f8dfa8fba"
   }
  }
 },
 "nbformat": 4,
 "nbformat_minor": 2
}
